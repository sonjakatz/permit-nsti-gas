{
 "cells": [
  {
   "cell_type": "markdown",
   "metadata": {},
   "source": [
    "# Clean validation RKZ data\n",
    "\n",
    "- recode missing values\n",
    "- remove patients with missing GAS\n",
    "- encode anatomical location (combine left, right)\n",
    "- prepare ENTRY and PRESURGERY data "
   ]
  },
  {
   "cell_type": "code",
   "execution_count": 1,
   "metadata": {},
   "outputs": [],
   "source": [
    "import os\n",
    "import pandas as pd\n",
    "import numpy as np\n",
    "import matplotlib.pyplot as plt\n",
    "import seaborn as sns\n",
    "import json\n",
    "sns.set_theme(style=\"whitegrid\")\n",
    "\n",
    "\n",
    "PATH_base = \"/home/WUR/katz001/PROJECTS/permit-nsti-gas\""
   ]
  },
  {
   "cell_type": "markdown",
   "metadata": {},
   "source": [
    "# Load data"
   ]
  },
  {
   "cell_type": "code",
   "execution_count": 2,
   "metadata": {},
   "outputs": [
    {
     "data": {
      "text/plain": [
       "(216, 354)"
      ]
     },
     "execution_count": 2,
     "metadata": {},
     "output_type": "execute_result"
    }
   ],
   "source": [
    "df_prim = pd.read_csv(\"../../data/validation/raw_data/Datafile_NSTI_216primair_tavGASpredictions.csv\", na_values=\" \")\n",
    "df_prim.shape"
   ]
  },
  {
   "cell_type": "markdown",
   "metadata": {},
   "source": [
    "# Recode missing variables to NaN"
   ]
  },
  {
   "cell_type": "code",
   "execution_count": 3,
   "metadata": {},
   "outputs": [],
   "source": [
    "### recode missing measurements as missing values\n",
    "na_other = {-99:np.nan,\n",
    "            -98:np.nan,\n",
    "            -97:np.nan,\n",
    "            -96:np.nan,\n",
    "            -95:np.nan,\n",
    "            2:np.nan}\n",
    "df_prim.replace(na_other, inplace=True)"
   ]
  },
  {
   "cell_type": "markdown",
   "metadata": {},
   "source": [
    "# Remove patients with missing target label"
   ]
  },
  {
   "cell_type": "code",
   "execution_count": 4,
   "metadata": {},
   "outputs": [
    {
     "name": "stdout",
     "output_type": "stream",
     "text": [
      "8\n"
     ]
    },
    {
     "data": {
      "text/plain": [
       "(208, 354)"
      ]
     },
     "execution_count": 4,
     "metadata": {},
     "output_type": "execute_result"
    }
   ],
   "source": [
    "print(df_prim[\"GAS_yes_no\"].isna().sum())\n",
    "\n",
    "df_prim = df_prim[df_prim[\"GAS_yes_no\"].notna()]\n",
    "df_prim.shape"
   ]
  },
  {
   "cell_type": "markdown",
   "metadata": {},
   "source": [
    "# Encode body parts (merge left, right)"
   ]
  },
  {
   "cell_type": "code",
   "execution_count": 5,
   "metadata": {},
   "outputs": [
    {
     "data": {
      "text/plain": [
       "(208, 356)"
      ]
     },
     "execution_count": 5,
     "metadata": {},
     "output_type": "execute_result"
    }
   ],
   "source": [
    "df_prim['bodypart_adm_pres#Lower_arm'] = df_prim.loc[:,['bodypart_adm_pres#Left_Lower_arm',\n",
    "                                                        'bodypart_adm_pres#Right_Lower_arm']].max(axis=1)\n",
    "\n",
    "df_prim['bodypart_adm_pres#Upper_arm'] = df_prim.loc[:,['bodypart_adm_pres#Left_Upper_arm',\n",
    "                                                        'bodypart_adm_pres#Right_Upper_arm']].max(axis=1)\n",
    "df_prim.shape"
   ]
  },
  {
   "cell_type": "markdown",
   "metadata": {},
   "source": [
    "# Prepare ENTRY and PRESURGERY dataset"
   ]
  },
  {
   "cell_type": "code",
   "execution_count": 7,
   "metadata": {},
   "outputs": [
    {
     "name": "stdout",
     "output_type": "stream",
     "text": [
      "['age_pres', 'bodypart_adm_pres#Upper_arm', 'bodypart_adm_pres#Lower_arm', 'bodypart_adm_pres#Anogenital_region', 'surg_area_NSTI', 'Diabetes_M', 'GAS_yes_no']\n",
      "(208, 7)\n",
      "['Adm_pres_Creat', 'Adm_pres_Hb_alt', 'bodypart_adm_pres#Upper_arm', 'bodypart_adm_pres#Lower_arm', 'bodypart_adm_pres#Anogenital_region', 'Diabetes_M', 'surg_area_NSTI', 'age_pres', 'GAS_yes_no']\n",
      "(208, 9)\n"
     ]
    }
   ],
   "source": [
    "with open(f\"{PATH_base}/data/validation/variables_translation.json\", \"r\") as f: varTranslation = json.load(f)\n",
    "\n",
    "''' ENTRY '''\n",
    "datasetTimepoint = \"ENTRY\"\n",
    "fs_entry = pd.read_csv(f\"{PATH_base}/results/20_featureSelection/{datasetTimepoint}/CV/Conclusion_micro_bootstrapped_iterativeBoruta_100perc.txt\", \n",
    "                       header=None)[0].tolist()\n",
    "fs_entry_validationDataset = [varTranslation[ele] for ele in fs_entry] + [\"GAS_yes_no\"]\n",
    "print(fs_entry_validationDataset)\n",
    "df_entry_val = df_prim.loc[:,fs_entry_validationDataset].copy()\n",
    "print(df_entry_val.shape)\n",
    "\n",
    "\n",
    "''' PRESURGERY '''\n",
    "datasetTimepoint = \"PRESURGERY\"\n",
    "fs_presurgery = pd.read_csv(f\"{PATH_base}/results/20_featureSelection/{datasetTimepoint}/CV/Conclusion_micro_bootstrapped_iterativeBoruta_100perc.txt\", \n",
    "                       header=None)[0].tolist()\n",
    "fs_presurgery_validationDataset = [varTranslation[ele] for ele in fs_presurgery] + [\"GAS_yes_no\"]\n",
    "print(fs_presurgery_validationDataset)\n",
    "df_presurgery_val = df_prim.loc[:,fs_presurgery_validationDataset].copy()\n",
    "print(df_presurgery_val.shape)\n"
   ]
  },
  {
   "cell_type": "markdown",
   "metadata": {},
   "source": [
    "# Save validation data"
   ]
  },
  {
   "cell_type": "code",
   "execution_count": 8,
   "metadata": {},
   "outputs": [
    {
     "name": "stdout",
     "output_type": "stream",
     "text": [
      "Saving dataset...\n",
      "\n",
      "\n"
     ]
    }
   ],
   "source": [
    "### Save dataset ###\n",
    "print(\"Saving dataset...\\n\\n\")\n",
    "df_entry_val.to_csv(f\"{PATH_base}/results/10_preprocessed/validation/ENTRY_Conclusion_micro_validationData.csv\", index=False)\n",
    "df_presurgery_val.to_csv(f\"{PATH_base}/results/10_preprocessed/validation/PRESURGERY_Conclusion_micro_validationData.csv\", index=False)"
   ]
  },
  {
   "cell_type": "code",
   "execution_count": null,
   "metadata": {},
   "outputs": [],
   "source": []
  }
 ],
 "metadata": {
  "kernelspec": {
   "display_name": "env_permit",
   "language": "python",
   "name": "python3"
  },
  "language_info": {
   "codemirror_mode": {
    "name": "ipython",
    "version": 3
   },
   "file_extension": ".py",
   "mimetype": "text/x-python",
   "name": "python",
   "nbconvert_exporter": "python",
   "pygments_lexer": "ipython3",
   "version": "3.11.8"
  }
 },
 "nbformat": 4,
 "nbformat_minor": 2
}
