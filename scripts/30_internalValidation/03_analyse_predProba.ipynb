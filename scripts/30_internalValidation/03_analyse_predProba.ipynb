{
 "cells": [
  {
   "cell_type": "markdown",
   "metadata": {},
   "source": [
    "# Analyse SHAP values"
   ]
  },
  {
   "cell_type": "code",
   "execution_count": 1,
   "metadata": {},
   "outputs": [
    {
     "name": "stderr",
     "output_type": "stream",
     "text": [
      "/home/WUR/katz001/miniconda3/envs/env_permit_gas/lib/python3.11/site-packages/tqdm/auto.py:21: TqdmWarning: IProgress not found. Please update jupyter and ipywidgets. See https://ipywidgets.readthedocs.io/en/stable/user_install.html\n",
      "  from .autonotebook import tqdm as notebook_tqdm\n"
     ]
    }
   ],
   "source": [
    "PATH = \"/home/WUR/katz001/PROJECTS/permit-nsti-gas\"\n",
    "\n",
    "import os\n",
    "import numpy as np\n",
    "import json\n",
    "import pandas as pd\n",
    "import sys \n",
    "import errno  \n",
    "import seaborn as sns\n",
    "sys.path.append(f\"{PATH}/scripts\")\n",
    "\n",
    "import matplotlib.pyplot as plt \n",
    "from func_preprocess import pipe_imputation_scaling, pipe_supervisedSelector\n",
    "import shap\n",
    "import pickle\n",
    "\n",
    "from sklearn.pipeline import Pipeline\n",
    "\n",
    "from sklearn.metrics import balanced_accuracy_score, precision_score, recall_score, f1_score, brier_score_loss, roc_auc_score, average_precision_score\n",
    "from sklearn.calibration import calibration_curve, CalibrationDisplay\n",
    "from statkit import decision"
   ]
  },
  {
   "cell_type": "code",
   "execution_count": 2,
   "metadata": {},
   "outputs": [],
   "source": [
    "### Read dataset and split\n",
    "''' \n",
    "Prepare data --> change here for different setups!\n",
    "'''\n",
    "datasetTimepoint = \"BL\"\n",
    "target = \"Conclusion_micro\"\n",
    "percentBoruta = 100\n",
    "n_iter = 1000\n",
    "\n",
    "''' \n",
    "Select features\n",
    "'''\n",
    "vars = f\"{target}_bootstrapped_iterativeBoruta_{percentBoruta}perc\"    \n",
    "varPath = f\"{PATH}/results/20_featureSelection/{datasetTimepoint}/CV/{vars}.txt\"\n",
    "sel_variables = pd.read_csv(varPath, header=None)[0].tolist()\n",
    "\n",
    "''' \n",
    "Define paths\n",
    "'''\n",
    "folderFigures = f\"{PATH}/figures/{datasetTimepoint}/40_internalValidation\"\n",
    "resultsPath = f\"{PATH}/results/40_internalValidation/{datasetTimepoint}/\"\n",
    "dataPath = f\"{PATH}/results/10_preprocessed\"\n",
    "dataset = f\"{datasetTimepoint}_{target}_preprocessed.csv\"\n",
    "\n",
    "''' \n",
    "Split data\n",
    "'''\n",
    "\n",
    "with open(f\"{PATH}/data/data_dtypes.json\", \"r\") as f:\n",
    "    dtypes = json.load(f)\n",
    "data = pd.read_csv(f\"{dataPath}/{dataset}\", index_col=0, dtype=dtypes)\n",
    "tmp = data.select_dtypes(include=[\"float32\"]).columns \n",
    "data[tmp] = data[tmp].astype(pd.Int64Dtype())\n",
    "\n",
    "X = data.drop(target, axis=1)\n",
    "y = data[target]"
   ]
  },
  {
   "cell_type": "code",
   "execution_count": 3,
   "metadata": {},
   "outputs": [],
   "source": [
    "''' Load predProba'''\n",
    "model = 'rfc'\n",
    "with open(f'{resultsPath}/bootstrap_{model}_n{n_iter}_predProba.pickle', 'rb') as f:\n",
    "    dic_proba = pickle.load(f)\n",
    "data = pd.DataFrame.from_dict(dic_proba, orient=\"index\").sort_index().T"
   ]
  },
  {
   "cell_type": "code",
   "execution_count": 43,
   "metadata": {},
   "outputs": [
    {
     "name": "stdout",
     "output_type": "stream",
     "text": [
      "acc 0.7272674077295547 0.6582661139835796 0.7985133763256669\n",
      "prec 0.7286933240344134 0.6 0.8666666666666667\n",
      "recall 0.5467047898488455 0.3962165880503145 0.7\n",
      "f1-score 0.6205066579312298 0.5 0.7294117647058823\n",
      "brier 0.14723919006116043 0.12519700816776708 0.17173879189476524\n",
      "roc_auc 0.8390914300269937 0.7786928676851889 0.8936964319457942\n",
      "pr 0.7026892861921819 0.5915466158893364 0.8071442546239778\n"
     ]
    }
   ],
   "source": [
    "dic_performanceScores = {\n",
    "    \"acc\":np.array([]),\n",
    "    \"prec\":np.array([]),\n",
    "    \"recall\":np.array([]),\n",
    "    \"f1-score\":np.array([]),\n",
    "    \"brier\":np.array([]),\n",
    "    \"roc_auc\":np.array([]),\n",
    "    \"pr\":np.array([]),\n",
    "}\n",
    "for run in range(data.shape[1]):\n",
    "    predproba = data[run][data[run].notna()]\n",
    "    pred = predproba.copy()\n",
    "    pred[predproba < 0.5] = 0\n",
    "    pred[predproba >= 0.5] = 1\n",
    "    tru = y.loc[predproba.index]   \n",
    "    \n",
    "    ## Accuracy\n",
    "    dic_performanceScores[\"acc\"] = np.append(dic_performanceScores[\"acc\"],balanced_accuracy_score(tru, pred))\n",
    "    ## Precision\n",
    "    dic_performanceScores[\"prec\"] = np.append(dic_performanceScores[\"prec\"],precision_score(tru, pred))\n",
    "    ## Recall\n",
    "    dic_performanceScores[\"recall\"] = np.append(dic_performanceScores[\"recall\"],recall_score(tru, pred))\n",
    "    # F1-score\n",
    "    dic_performanceScores[\"f1-score\"] = np.append(dic_performanceScores[\"f1-score\"],f1_score(tru, pred))\n",
    "    ## Brier\n",
    "    dic_performanceScores[\"brier\"] = np.append(dic_performanceScores[\"brier\"],brier_score_loss(tru, predproba))\n",
    "    ## ROC AUC\n",
    "    dic_performanceScores[\"roc_auc\"] = np.append(dic_performanceScores[\"roc_auc\"],roc_auc_score(tru, predproba))\n",
    "    ## PR\n",
    "    dic_performanceScores[\"pr\"] = np.append(dic_performanceScores[\"pr\"],average_precision_score(tru, predproba))\n",
    "\n",
    "df_scores = pd.DataFrame.from_dict(dic_performanceScores)\n",
    "\n",
    "\"\"\" \n",
    "Calculate confidence intervals \n",
    "\"\"\"\n",
    "for col in df_scores.columns:\n",
    "    print(col, np.mean(df_scores[col]),np.percentile(df_scores[col], 2.5), np.percentile(df_scores[col], 97.5))"
   ]
  },
  {
   "cell_type": "markdown",
   "metadata": {},
   "source": [
    "# Calculate CI"
   ]
  },
  {
   "cell_type": "code",
   "execution_count": 44,
   "metadata": {},
   "outputs": [],
   "source": [
    "\"\"\" \n",
    "Calculate confidence intervals \n",
    "\"\"\"\n",
    "df_ci = pd.DataFrame()\n",
    "for col in df_scores.columns:\n",
    "    df_ci[col] = np.array([np.mean(df_scores[col]),np.percentile(df_scores[col], 2.5), np.percentile(df_scores[col], 97.5)])\n",
    "df_ci.index = [\"mean\", \"lower_CI\", \"upper_CI\"]\n",
    "\n",
    "#### Save to file\n",
    "df_ci.to_csv(f\"{resultsPath}/bootstrap_CI_95%.csv\")"
   ]
  },
  {
   "cell_type": "code",
   "execution_count": 45,
   "metadata": {},
   "outputs": [
    {
     "name": "stdout",
     "output_type": "stream",
     "text": [
      "acc\n",
      "0.727 (95%CI 0.658, 0.799)\n",
      "\n",
      "\n",
      "prec\n",
      "0.729 (95%CI 0.600, 0.867)\n",
      "\n",
      "\n",
      "recall\n",
      "0.547 (95%CI 0.396, 0.700)\n",
      "\n",
      "\n",
      "f1-score\n",
      "0.621 (95%CI 0.500, 0.729)\n",
      "\n",
      "\n",
      "brier\n",
      "0.147 (95%CI 0.125, 0.172)\n",
      "\n",
      "\n",
      "roc_auc\n",
      "0.839 (95%CI 0.779, 0.894)\n",
      "\n",
      "\n",
      "pr\n",
      "0.703 (95%CI 0.592, 0.807)\n",
      "\n",
      "\n"
     ]
    }
   ],
   "source": [
    "for i, col in enumerate(df_ci.columns):\n",
    "    print(col)\n",
    "    print(\"%.3f\" % df_ci.iloc[0, i], \"(95%CI\", \"%.3f,\" % df_ci.iloc[1, i], \"%.3f)\" % df_ci.iloc[2, i])\n",
    "    print(\"\\n\")"
   ]
  },
  {
   "cell_type": "markdown",
   "metadata": {},
   "source": [
    "# Net benefit"
   ]
  },
  {
   "cell_type": "code",
   "execution_count": 46,
   "metadata": {},
   "outputs": [
    {
     "data": {
      "text/html": [
       "<div>\n",
       "<style scoped>\n",
       "    .dataframe tbody tr th:only-of-type {\n",
       "        vertical-align: middle;\n",
       "    }\n",
       "\n",
       "    .dataframe tbody tr th {\n",
       "        vertical-align: top;\n",
       "    }\n",
       "\n",
       "    .dataframe thead th {\n",
       "        text-align: right;\n",
       "    }\n",
       "</style>\n",
       "<table border=\"1\" class=\"dataframe\">\n",
       "  <thead>\n",
       "    <tr style=\"text-align: right;\">\n",
       "      <th></th>\n",
       "      <th>acc</th>\n",
       "      <th>prec</th>\n",
       "      <th>recall</th>\n",
       "      <th>f1-score</th>\n",
       "      <th>brier</th>\n",
       "      <th>roc_auc</th>\n",
       "      <th>pr</th>\n",
       "    </tr>\n",
       "  </thead>\n",
       "  <tbody>\n",
       "    <tr>\n",
       "      <th>0</th>\n",
       "      <td>0.767602</td>\n",
       "      <td>0.771429</td>\n",
       "      <td>0.613636</td>\n",
       "      <td>0.683544</td>\n",
       "      <td>0.131198</td>\n",
       "      <td>0.868761</td>\n",
       "      <td>0.789117</td>\n",
       "    </tr>\n",
       "    <tr>\n",
       "      <th>1</th>\n",
       "      <td>0.721316</td>\n",
       "      <td>0.821429</td>\n",
       "      <td>0.489362</td>\n",
       "      <td>0.613333</td>\n",
       "      <td>0.135416</td>\n",
       "      <td>0.876516</td>\n",
       "      <td>0.739041</td>\n",
       "    </tr>\n",
       "    <tr>\n",
       "      <th>2</th>\n",
       "      <td>0.680654</td>\n",
       "      <td>0.904762</td>\n",
       "      <td>0.380000</td>\n",
       "      <td>0.535211</td>\n",
       "      <td>0.156049</td>\n",
       "      <td>0.850467</td>\n",
       "      <td>0.724032</td>\n",
       "    </tr>\n",
       "    <tr>\n",
       "      <th>3</th>\n",
       "      <td>0.730050</td>\n",
       "      <td>0.705882</td>\n",
       "      <td>0.558140</td>\n",
       "      <td>0.623377</td>\n",
       "      <td>0.146296</td>\n",
       "      <td>0.828317</td>\n",
       "      <td>0.706904</td>\n",
       "    </tr>\n",
       "    <tr>\n",
       "      <th>4</th>\n",
       "      <td>0.763303</td>\n",
       "      <td>0.771429</td>\n",
       "      <td>0.600000</td>\n",
       "      <td>0.675000</td>\n",
       "      <td>0.131032</td>\n",
       "      <td>0.888889</td>\n",
       "      <td>0.726064</td>\n",
       "    </tr>\n",
       "    <tr>\n",
       "      <th>...</th>\n",
       "      <td>...</td>\n",
       "      <td>...</td>\n",
       "      <td>...</td>\n",
       "      <td>...</td>\n",
       "      <td>...</td>\n",
       "      <td>...</td>\n",
       "      <td>...</td>\n",
       "    </tr>\n",
       "    <tr>\n",
       "      <th>995</th>\n",
       "      <td>0.653966</td>\n",
       "      <td>0.680000</td>\n",
       "      <td>0.386364</td>\n",
       "      <td>0.492754</td>\n",
       "      <td>0.172388</td>\n",
       "      <td>0.759804</td>\n",
       "      <td>0.608333</td>\n",
       "    </tr>\n",
       "    <tr>\n",
       "      <th>996</th>\n",
       "      <td>0.667614</td>\n",
       "      <td>0.760000</td>\n",
       "      <td>0.395833</td>\n",
       "      <td>0.520548</td>\n",
       "      <td>0.144774</td>\n",
       "      <td>0.877315</td>\n",
       "      <td>0.766392</td>\n",
       "    </tr>\n",
       "    <tr>\n",
       "      <th>997</th>\n",
       "      <td>0.794504</td>\n",
       "      <td>0.775000</td>\n",
       "      <td>0.673913</td>\n",
       "      <td>0.720930</td>\n",
       "      <td>0.132778</td>\n",
       "      <td>0.856645</td>\n",
       "      <td>0.807141</td>\n",
       "    </tr>\n",
       "    <tr>\n",
       "      <th>998</th>\n",
       "      <td>0.725553</td>\n",
       "      <td>0.757576</td>\n",
       "      <td>0.531915</td>\n",
       "      <td>0.625000</td>\n",
       "      <td>0.151020</td>\n",
       "      <td>0.841178</td>\n",
       "      <td>0.703241</td>\n",
       "    </tr>\n",
       "    <tr>\n",
       "      <th>999</th>\n",
       "      <td>0.705769</td>\n",
       "      <td>0.782609</td>\n",
       "      <td>0.461538</td>\n",
       "      <td>0.580645</td>\n",
       "      <td>0.141586</td>\n",
       "      <td>0.826410</td>\n",
       "      <td>0.720783</td>\n",
       "    </tr>\n",
       "  </tbody>\n",
       "</table>\n",
       "<p>1000 rows × 7 columns</p>\n",
       "</div>"
      ],
      "text/plain": [
       "          acc      prec    recall  f1-score     brier   roc_auc        pr\n",
       "0    0.767602  0.771429  0.613636  0.683544  0.131198  0.868761  0.789117\n",
       "1    0.721316  0.821429  0.489362  0.613333  0.135416  0.876516  0.739041\n",
       "2    0.680654  0.904762  0.380000  0.535211  0.156049  0.850467  0.724032\n",
       "3    0.730050  0.705882  0.558140  0.623377  0.146296  0.828317  0.706904\n",
       "4    0.763303  0.771429  0.600000  0.675000  0.131032  0.888889  0.726064\n",
       "..        ...       ...       ...       ...       ...       ...       ...\n",
       "995  0.653966  0.680000  0.386364  0.492754  0.172388  0.759804  0.608333\n",
       "996  0.667614  0.760000  0.395833  0.520548  0.144774  0.877315  0.766392\n",
       "997  0.794504  0.775000  0.673913  0.720930  0.132778  0.856645  0.807141\n",
       "998  0.725553  0.757576  0.531915  0.625000  0.151020  0.841178  0.703241\n",
       "999  0.705769  0.782609  0.461538  0.580645  0.141586  0.826410  0.720783\n",
       "\n",
       "[1000 rows x 7 columns]"
      ]
     },
     "execution_count": 46,
     "metadata": {},
     "output_type": "execute_result"
    }
   ],
   "source": [
    "df_scores"
   ]
  },
  {
   "cell_type": "markdown",
   "metadata": {},
   "source": [
    "# Net benefit"
   ]
  },
  {
   "cell_type": "code",
   "execution_count": null,
   "metadata": {},
   "outputs": [],
   "source": []
  },
  {
   "cell_type": "code",
   "execution_count": 4,
   "metadata": {},
   "outputs": [
    {
     "data": {
      "text/plain": [
       "(-0.1, 0.33)"
      ]
     },
     "execution_count": 4,
     "metadata": {},
     "output_type": "execute_result"
    },
    {
     "data": {
      "image/png": "[encoded data removed]",
      "text/plain": [
       "<Figure size 640x480 with 1 Axes>"
      ]
     },
     "metadata": {},
     "output_type": "display_data"
    }
   ],
   "source": [
    "b = data.T.mean().sort_index()\n",
    "c = y.loc[b.index]\n",
    "\n",
    "fig, ax = plt.subplots()\n",
    "decision.NetBenefitDisplay.from_predictions(c, b, name='Us', ax=ax)\n",
    "ax.set_ylim(0-.1,.33)"
   ]
  },
  {
   "cell_type": "code",
   "execution_count": null,
   "metadata": {},
   "outputs": [],
   "source": []
  }
 ],
 "metadata": {
  "kernelspec": {
   "display_name": "env_permit",
   "language": "python",
   "name": "python3"
  },
  "language_info": {
   "codemirror_mode": {
    "name": "ipython",
    "version": 3
   },
   "file_extension": ".py",
   "mimetype": "text/x-python",
   "name": "python",
   "nbconvert_exporter": "python",
   "pygments_lexer": "ipython3",
   "version": "3.11.8"
  },
  "orig_nbformat": 4
 },
 "nbformat": 4,
 "nbformat_minor": 2
}
