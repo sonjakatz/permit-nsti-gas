{
 "cells": [
  {
   "cell_type": "markdown",
   "metadata": {},
   "source": [
    "# Analyse SHAP values"
   ]
  },
  {
   "cell_type": "code",
   "execution_count": 1,
   "metadata": {},
   "outputs": [
    {
     "name": "stderr",
     "output_type": "stream",
     "text": [
      "/home/WUR/katz001/miniconda3/envs/env_permit_gas/lib/python3.11/site-packages/tqdm/auto.py:21: TqdmWarning: IProgress not found. Please update jupyter and ipywidgets. See https://ipywidgets.readthedocs.io/en/stable/user_install.html\n",
      "  from .autonotebook import tqdm as notebook_tqdm\n"
     ]
    }
   ],
   "source": [
    "PATH = \"/home/WUR/katz001/PROJECTS/permit-nsti-gas\"\n",
    "\n",
    "import os\n",
    "import numpy as np\n",
    "import json\n",
    "import pandas as pd\n",
    "import sys \n",
    "import errno  \n",
    "import seaborn as sns\n",
    "sys.path.append(f\"{PATH}/scripts\")\n",
    "\n",
    "import matplotlib.pyplot as plt \n",
    "from func_preprocess import pipe_imputation_scaling, pipe_supervisedSelector\n",
    "import shap\n",
    "import pickle\n",
    "\n",
    "from sklearn.pipeline import Pipeline\n",
    "\n",
    "from sklearn.metrics import balanced_accuracy_score, precision_score, recall_score, brier_score_loss, roc_auc_score, average_precision_score\n",
    "from sklearn.calibration import calibration_curve, CalibrationDisplay\n",
    "from statkit import decision"
   ]
  },
  {
   "cell_type": "code",
   "execution_count": 4,
   "metadata": {},
   "outputs": [],
   "source": [
    "### Read dataset and split\n",
    "''' \n",
    "Prepare data --> change here for different setups!\n",
    "'''\n",
    "datasetTimepoint = \"PRESURGERY\"\n",
    "target = \"Conclusion_micro\"\n",
    "percentBoruta = 100\n",
    "n_iter = 1000\n",
    "\n",
    "''' \n",
    "Select features\n",
    "'''\n",
    "vars = f\"{target}_bootstrapped_iterativeBoruta_{percentBoruta}perc\"    \n",
    "varPath = f\"{PATH}/results/20_featureSelection/{datasetTimepoint}/CV/{vars}.txt\"\n",
    "sel_variables = pd.read_csv(varPath, header=None)[0].tolist()\n",
    "\n",
    "''' \n",
    "Define paths\n",
    "'''\n",
    "folderFigures = f\"{PATH}/figures/{datasetTimepoint}/40_internalValidation\"\n",
    "resultsPath = f\"{PATH}/results/40_internalValidation/{datasetTimepoint}/\"\n",
    "dataPath = f\"{PATH}/results/10_preprocessed\"\n",
    "dataset = f\"{datasetTimepoint}_{target}_preprocessed.csv\"\n",
    "\n",
    "''' \n",
    "Split data\n",
    "'''\n",
    "\n",
    "with open(f\"{PATH}/data/data_dtypes.json\", \"r\") as f:\n",
    "    dtypes = json.load(f)\n",
    "data = pd.read_csv(f\"{dataPath}/{dataset}\", index_col=0, dtype=dtypes)\n",
    "tmp = data.select_dtypes(include=[\"float32\"]).columns \n",
    "data[tmp] = data[tmp].astype(pd.Int64Dtype())\n",
    "\n",
    "X = data.drop(target, axis=1)\n",
    "y = data[target]"
   ]
  },
  {
   "cell_type": "code",
   "execution_count": 20,
   "metadata": {},
   "outputs": [],
   "source": [
    "''' Load predProba'''\n",
    "model = 'rfc'\n",
    "with open(f'{resultsPath}/bootstrap_{model}_n{n_iter}_predProba.pickle', 'rb') as f:\n",
    "    dic_proba = pickle.load(f)\n",
    "data = pd.DataFrame.from_dict(dic_proba, orient=\"index\").sort_index().T"
   ]
  },
  {
   "cell_type": "code",
   "execution_count": 30,
   "metadata": {},
   "outputs": [
    {
     "name": "stdout",
     "output_type": "stream",
     "text": [
      "acc 0.7258694545536853 0.6416144178109573 0.7964996715208039\n",
      "prec 0.666226732156364 0.5476190476190477 0.7838861588861588\n",
      "recall 0.5834482976227723 0.391304347826087 0.7391304347826086\n",
      "brier 0.15195120391307196 0.12776364134353158 0.18283837017383023\n",
      "roc_auc 0.8279942629825225 0.7632505948912199 0.8828338279937117\n",
      "pr 0.6839403707058939 0.5682100061029917 0.7867296874885792\n"
     ]
    }
   ],
   "source": [
    "dic_performanceScores = {\n",
    "    \"acc\":np.array([]),\n",
    "    \"prec\":np.array([]),\n",
    "    \"recall\":np.array([]),\n",
    "    \"brier\":np.array([]),\n",
    "    \"roc_auc\":np.array([]),\n",
    "    \"pr\":np.array([]),\n",
    "}\n",
    "for run in range(data.shape[1]):\n",
    "    predproba = data[run][data[run].notna()]\n",
    "    pred = predproba.copy()\n",
    "    pred[predproba < 0.5] = 0\n",
    "    pred[predproba >= 0.5] = 1\n",
    "    tru = y.loc[predproba.index]   \n",
    "    \n",
    "    ## Accuracy\n",
    "    dic_performanceScores[\"acc\"] = np.append(dic_performanceScores[\"acc\"],balanced_accuracy_score(tru, pred))\n",
    "    ## Precision\n",
    "    dic_performanceScores[\"prec\"] = np.append(dic_performanceScores[\"prec\"],precision_score(tru, pred))\n",
    "    ## Recall\n",
    "    dic_performanceScores[\"recall\"] = np.append(dic_performanceScores[\"recall\"],recall_score(tru, pred))\n",
    "    ## Brier\n",
    "    dic_performanceScores[\"brier\"] = np.append(dic_performanceScores[\"brier\"],brier_score_loss(tru, predproba))\n",
    "    ## ROC AUC\n",
    "    dic_performanceScores[\"roc_auc\"] = np.append(dic_performanceScores[\"roc_auc\"],roc_auc_score(tru, predproba))\n",
    "    ## PR\n",
    "    dic_performanceScores[\"pr\"] = np.append(dic_performanceScores[\"pr\"],average_precision_score(tru, predproba))\n",
    "\n",
    "df_scores = pd.DataFrame.from_dict(dic_performanceScores)\n",
    "\n",
    "\"\"\" \n",
    "Calculate confidence intervals \n",
    "\"\"\"\n",
    "for col in df_scores.columns:\n",
    "    print(col, np.mean(df_scores[col]),np.percentile(df_scores[col], 2.5), np.percentile(df_scores[col], 97.5))"
   ]
  },
  {
   "cell_type": "code",
   "execution_count": 29,
   "metadata": {},
   "outputs": [
    {
     "data": {
      "text/html": [
       "<div>\n",
       "<style scoped>\n",
       "    .dataframe tbody tr th:only-of-type {\n",
       "        vertical-align: middle;\n",
       "    }\n",
       "\n",
       "    .dataframe tbody tr th {\n",
       "        vertical-align: top;\n",
       "    }\n",
       "\n",
       "    .dataframe thead th {\n",
       "        text-align: right;\n",
       "    }\n",
       "</style>\n",
       "<table border=\"1\" class=\"dataframe\">\n",
       "  <thead>\n",
       "    <tr style=\"text-align: right;\">\n",
       "      <th></th>\n",
       "      <th>acc</th>\n",
       "      <th>prec</th>\n",
       "      <th>recall</th>\n",
       "      <th>brier</th>\n",
       "      <th>roc_auc</th>\n",
       "      <th>pr</th>\n",
       "    </tr>\n",
       "  </thead>\n",
       "  <tbody>\n",
       "    <tr>\n",
       "      <th>0</th>\n",
       "      <td>0.711310</td>\n",
       "      <td>0.657143</td>\n",
       "      <td>0.547619</td>\n",
       "      <td>0.153915</td>\n",
       "      <td>0.826141</td>\n",
       "      <td>0.653348</td>\n",
       "    </tr>\n",
       "    <tr>\n",
       "      <th>1</th>\n",
       "      <td>0.732996</td>\n",
       "      <td>0.596154</td>\n",
       "      <td>0.673913</td>\n",
       "      <td>0.156523</td>\n",
       "      <td>0.815971</td>\n",
       "      <td>0.693394</td>\n",
       "    </tr>\n",
       "    <tr>\n",
       "      <th>2</th>\n",
       "      <td>0.717290</td>\n",
       "      <td>0.758621</td>\n",
       "      <td>0.500000</td>\n",
       "      <td>0.145362</td>\n",
       "      <td>0.824554</td>\n",
       "      <td>0.682173</td>\n",
       "    </tr>\n",
       "    <tr>\n",
       "      <th>3</th>\n",
       "      <td>0.760000</td>\n",
       "      <td>0.660377</td>\n",
       "      <td>0.700000</td>\n",
       "      <td>0.161974</td>\n",
       "      <td>0.811000</td>\n",
       "      <td>0.681875</td>\n",
       "    </tr>\n",
       "    <tr>\n",
       "      <th>4</th>\n",
       "      <td>0.729038</td>\n",
       "      <td>0.727273</td>\n",
       "      <td>0.545455</td>\n",
       "      <td>0.143670</td>\n",
       "      <td>0.845984</td>\n",
       "      <td>0.696184</td>\n",
       "    </tr>\n",
       "    <tr>\n",
       "      <th>...</th>\n",
       "      <td>...</td>\n",
       "      <td>...</td>\n",
       "      <td>...</td>\n",
       "      <td>...</td>\n",
       "      <td>...</td>\n",
       "      <td>...</td>\n",
       "    </tr>\n",
       "    <tr>\n",
       "      <th>995</th>\n",
       "      <td>0.736406</td>\n",
       "      <td>0.680851</td>\n",
       "      <td>0.627451</td>\n",
       "      <td>0.168258</td>\n",
       "      <td>0.802304</td>\n",
       "      <td>0.699726</td>\n",
       "    </tr>\n",
       "    <tr>\n",
       "      <th>996</th>\n",
       "      <td>0.739055</td>\n",
       "      <td>0.738095</td>\n",
       "      <td>0.584906</td>\n",
       "      <td>0.136781</td>\n",
       "      <td>0.877267</td>\n",
       "      <td>0.786828</td>\n",
       "    </tr>\n",
       "    <tr>\n",
       "      <th>997</th>\n",
       "      <td>0.664530</td>\n",
       "      <td>0.625000</td>\n",
       "      <td>0.444444</td>\n",
       "      <td>0.149253</td>\n",
       "      <td>0.832051</td>\n",
       "      <td>0.677749</td>\n",
       "    </tr>\n",
       "    <tr>\n",
       "      <th>998</th>\n",
       "      <td>0.745789</td>\n",
       "      <td>0.631579</td>\n",
       "      <td>0.631579</td>\n",
       "      <td>0.144399</td>\n",
       "      <td>0.840263</td>\n",
       "      <td>0.607734</td>\n",
       "    </tr>\n",
       "    <tr>\n",
       "      <th>999</th>\n",
       "      <td>0.740550</td>\n",
       "      <td>0.608696</td>\n",
       "      <td>0.666667</td>\n",
       "      <td>0.161142</td>\n",
       "      <td>0.812960</td>\n",
       "      <td>0.664145</td>\n",
       "    </tr>\n",
       "  </tbody>\n",
       "</table>\n",
       "<p>1000 rows × 6 columns</p>\n",
       "</div>"
      ],
      "text/plain": [
       "          acc      prec    recall     brier   roc_auc        pr\n",
       "0    0.711310  0.657143  0.547619  0.153915  0.826141  0.653348\n",
       "1    0.732996  0.596154  0.673913  0.156523  0.815971  0.693394\n",
       "2    0.717290  0.758621  0.500000  0.145362  0.824554  0.682173\n",
       "3    0.760000  0.660377  0.700000  0.161974  0.811000  0.681875\n",
       "4    0.729038  0.727273  0.545455  0.143670  0.845984  0.696184\n",
       "..        ...       ...       ...       ...       ...       ...\n",
       "995  0.736406  0.680851  0.627451  0.168258  0.802304  0.699726\n",
       "996  0.739055  0.738095  0.584906  0.136781  0.877267  0.786828\n",
       "997  0.664530  0.625000  0.444444  0.149253  0.832051  0.677749\n",
       "998  0.745789  0.631579  0.631579  0.144399  0.840263  0.607734\n",
       "999  0.740550  0.608696  0.666667  0.161142  0.812960  0.664145\n",
       "\n",
       "[1000 rows x 6 columns]"
      ]
     },
     "execution_count": 29,
     "metadata": {},
     "output_type": "execute_result"
    }
   ],
   "source": [
    "df_scores"
   ]
  },
  {
   "cell_type": "markdown",
   "metadata": {},
   "source": [
    "# Net benefit"
   ]
  },
  {
   "cell_type": "code",
   "execution_count": 12,
   "metadata": {},
   "outputs": [],
   "source": []
  },
  {
   "cell_type": "code",
   "execution_count": 31,
   "metadata": {},
   "outputs": [
    {
     "data": {
      "text/plain": [
       "(-0.1, 0.33)"
      ]
     },
     "execution_count": 31,
     "metadata": {},
     "output_type": "execute_result"
    },
    {
     "data": {
      "image/png": "[encoded data removed]",
      "text/plain": [
       "<Figure size 640x480 with 1 Axes>"
      ]
     },
     "metadata": {},
     "output_type": "display_data"
    }
   ],
   "source": [
    "b = data.T.mean().sort_index()\n",
    "c = y.loc[b.index]\n",
    "\n",
    "fig, ax = plt.subplots()\n",
    "decision.NetBenefitDisplay.from_predictions(c, b, name='Us', ax=ax)\n",
    "ax.set_ylim(0-.1,.33)"
   ]
  },
  {
   "cell_type": "code",
   "execution_count": null,
   "metadata": {},
   "outputs": [],
   "source": []
  }
 ],
 "metadata": {
  "kernelspec": {
   "display_name": "env_permit",
   "language": "python",
   "name": "python3"
  },
  "language_info": {
   "codemirror_mode": {
    "name": "ipython",
    "version": 3
   },
   "file_extension": ".py",
   "mimetype": "text/x-python",
   "name": "python",
   "nbconvert_exporter": "python",
   "pygments_lexer": "ipython3",
   "version": "3.11.8"
  },
  "orig_nbformat": 4
 },
 "nbformat": 4,
 "nbformat_minor": 2
}
