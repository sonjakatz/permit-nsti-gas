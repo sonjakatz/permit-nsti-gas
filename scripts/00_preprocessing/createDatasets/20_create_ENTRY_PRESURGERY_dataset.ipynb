{
 "cells": [
  {
   "cell_type": "markdown",
   "metadata": {},
   "source": [
    "STILL TO ADD:\n",
    "collapse all 25 columns to 1 unique variable (occured: Y|N)"
   ]
  },
  {
   "cell_type": "code",
   "execution_count": 1,
   "metadata": {},
   "outputs": [],
   "source": [
    "import pandas as pd\n",
    "import re\n",
    "import numpy as np\n",
    "import os"
   ]
  },
  {
   "cell_type": "code",
   "execution_count": 2,
   "metadata": {},
   "outputs": [],
   "source": [
    "output_dir = \"../../../results/datasets/time_dissection\""
   ]
  },
  {
   "cell_type": "markdown",
   "metadata": {},
   "source": [
    "# Read raw data"
   ]
  },
  {
   "cell_type": "code",
   "execution_count": 3,
   "metadata": {},
   "outputs": [
    {
     "name": "stdout",
     "output_type": "stream",
     "text": [
      "(409, 2488)\n",
      "(2410, 12)\n"
     ]
    }
   ],
   "source": [
    "full_data = pd.read_csv(\"../../../results/datasets/allFeatures_fullDataset.csv\", low_memory=False)\n",
    "print(full_data.shape)\n",
    "variables_per_dataset = pd.read_csv(\"../../../data/VARIABLES_timepoints_GASpred.csv\", header=0, index_col=0)\n",
    "print(variables_per_dataset.shape)"
   ]
  },
  {
   "cell_type": "markdown",
   "metadata": {},
   "source": [
    "# ENTRY & PRESURGERY datasets (CODE: 1 / CODE: 2)"
   ]
  },
  {
   "cell_type": "code",
   "execution_count": 4,
   "metadata": {},
   "outputs": [
    {
     "name": "stdout",
     "output_type": "stream",
     "text": [
      "(409, 51)\n",
      "(409, 71)\n"
     ]
    }
   ],
   "source": [
    "\n",
    "###### SAVE dataset yes|no ######\n",
    "save = True\n",
    "#################################\n",
    "\n",
    "pre_surg_sets = ['entry', 'presurgery']\n",
    "for (i,subset) in enumerate(pre_surg_sets,1):   \n",
    "    indx = (variables_per_dataset[subset][variables_per_dataset[subset] == i]).index\n",
    "    df = full_data.loc[:,indx]\n",
    "    print(df.shape)\n",
    "    \n",
    "    # save dataset\n",
    "    if save == True:\n",
    "        df.to_csv(os.path.join(output_dir, subset.upper() + \"_dataset.csv\"), index=False)"
   ]
  },
  {
   "cell_type": "code",
   "execution_count": null,
   "metadata": {},
   "outputs": [],
   "source": [
    "df"
   ]
  },
  {
   "cell_type": "code",
   "execution_count": null,
   "metadata": {},
   "outputs": [],
   "source": []
  }
 ],
 "metadata": {
  "kernelspec": {
   "display_name": "Python 3",
   "language": "python",
   "name": "python3"
  },
  "language_info": {
   "codemirror_mode": {
    "name": "ipython",
    "version": 3
   },
   "file_extension": ".py",
   "mimetype": "text/x-python",
   "name": "python",
   "nbconvert_exporter": "python",
   "pygments_lexer": "ipython3",
   "version": "3.9.17"
  }
 },
 "nbformat": 4,
 "nbformat_minor": 4
}
