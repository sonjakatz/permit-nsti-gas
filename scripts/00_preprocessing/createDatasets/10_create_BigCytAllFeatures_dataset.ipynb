{
 "cells": [
  {
   "cell_type": "code",
   "execution_count": 1,
   "metadata": {},
   "outputs": [],
   "source": [
    "import pandas as pd \n",
    "import matplotlib.pyplot as plt\n",
    "\n",
    "#pd.set_option(\"display.max_rows\", None)\n",
    "pd.set_option(\"display.max_columns\", None)"
   ]
  },
  {
   "cell_type": "code",
   "execution_count": 3,
   "metadata": {},
   "outputs": [],
   "source": [
    "data_proc = pd.read_csv(\"../../../data/Data_processed.csv\", low_memory=False)\n",
    "data_cyt = pd.read_csv(\"../../../data/Cytokines_3Dec2019.csv\", low_memory=False)"
   ]
  },
  {
   "cell_type": "markdown",
   "metadata": {},
   "source": [
    "# Patients in ICU per day"
   ]
  },
  {
   "cell_type": "code",
   "execution_count": 4,
   "metadata": {},
   "outputs": [
    {
     "name": "stdout",
     "output_type": "stream",
     "text": [
      "Day 1: 17\n",
      "Day 2: 27\n",
      "Day 3: 51\n",
      "Day 4: 57\n",
      "Day 5: 52\n",
      "Day 6: 19\n",
      "Day 7: 186\n",
      "Total patients: 409\n"
     ]
    }
   ],
   "source": [
    "for i in range(1,8):\n",
    "    tmp = data_proc.loc[data_proc[\"day\"] == i,].shape[0]\n",
    "    print(\"Day {0}: {1}\".format(i, tmp))\n",
    "\n",
    "print(\"Total patients: {0}\".format(data_proc.shape[0]))"
   ]
  },
  {
   "cell_type": "markdown",
   "metadata": {},
   "source": [
    "# Overlap cytokine dataset - big dataset"
   ]
  },
  {
   "cell_type": "markdown",
   "metadata": {},
   "source": [
    "## Prepare cytokine dataset"
   ]
  },
  {
   "cell_type": "code",
   "execution_count": 5,
   "metadata": {},
   "outputs": [
    {
     "name": "stdout",
     "output_type": "stream",
     "text": [
      "\n",
      "Patients cytokine dataset (original): 400\n",
      "Patients cytokine dataset (after removal unannotated patients): 381\n",
      "Patients cytokine dataset (merging duplicates): 291\n",
      "\n"
     ]
    }
   ],
   "source": [
    "\n",
    "print(\"\\nPatients cytokine dataset (original): {}\".format(data_cyt.shape[0]))\n",
    "\n",
    "# Remove unannotated patients\n",
    "data_cyt = data_cyt[-data_cyt[\"PatientID\"].isna()]\n",
    "data_cyt.loc[:,\"PatientID\"] = data_cyt[\"PatientID\"].astype(str).str[:-2].astype(\"int64\")\n",
    "print(\"Patients cytokine dataset (after removal unannotated patients): {}\".format(data_cyt.shape[0]))\n",
    "\n",
    "# Take only cytokine information\n",
    "data_cytOnly = pd.concat([data_cyt.loc[:, [\"PatientID\", \"day\"]], data_cyt.iloc[:, 27:]], axis = 1)\n",
    "\n",
    "# New variables for cytokine day 0 / day 3\n",
    "cyt_day0 = data_cytOnly[data_cytOnly[\"day\"] == 0]\n",
    "cyt_day3 = data_cytOnly[data_cytOnly[\"day\"] == 3]\n",
    "\n",
    "cyt_merge = pd.merge(cyt_day0, cyt_day3, on=[\"PatientID\"], how = \"outer\", suffixes=['_1', '_3'])\n",
    "cyt_merge.drop([\"day_1\", \"day_3\"], axis=1, inplace=True)\n",
    "\n",
    "print(\"Patients cytokine dataset (merging duplicates): {}\\n\".format(cyt_merge.shape[0]))\n"
   ]
  },
  {
   "cell_type": "code",
   "execution_count": 6,
   "metadata": {},
   "outputs": [
    {
     "data": {
      "text/plain": [
       "day\n",
       "0    291\n",
       "3     90\n",
       "Name: count, dtype: int64"
      ]
     },
     "execution_count": 6,
     "metadata": {},
     "output_type": "execute_result"
    }
   ],
   "source": [
    "data_cytOnly[\"day\"].value_counts()"
   ]
  },
  {
   "cell_type": "markdown",
   "metadata": {},
   "source": [
    "## Merge cytokine and big dataset"
   ]
  },
  {
   "cell_type": "code",
   "execution_count": 7,
   "metadata": {},
   "outputs": [],
   "source": [
    "# Merge with other dataset via PatientID\n",
    "bigCyt_leftmerge = pd.merge(data_proc, cyt_merge, left_on='PATIENT_ID', right_on='PatientID', how = \"left\")\n",
    "bigCyt_innermerge = pd.merge(data_proc, cyt_merge, left_on='PATIENT_ID', right_on='PatientID', how = \"inner\")"
   ]
  },
  {
   "cell_type": "code",
   "execution_count": 10,
   "metadata": {},
   "outputs": [],
   "source": [
    "bigCyt_leftmerge.to_csv(\"../../../results/datasets/allFeatures_fullDataset.csv\", index=False)\n",
    "bigCyt_innermerge.to_csv(\"../../../results/datasets/allFeatures_overlapDataset.csv\", index=False)"
   ]
  },
  {
   "cell_type": "code",
   "execution_count": 12,
   "metadata": {},
   "outputs": [
    {
     "data": {
      "text/plain": [
       "(409, 2488)"
      ]
     },
     "execution_count": 12,
     "metadata": {},
     "output_type": "execute_result"
    }
   ],
   "source": [
    "bigCyt_leftmerge.shape"
   ]
  },
  {
   "cell_type": "code",
   "execution_count": null,
   "metadata": {},
   "outputs": [],
   "source": []
  }
 ],
 "metadata": {
  "kernelspec": {
   "display_name": "Python 3",
   "language": "python",
   "name": "python3"
  },
  "language_info": {
   "codemirror_mode": {
    "name": "ipython",
    "version": 3
   },
   "file_extension": ".py",
   "mimetype": "text/x-python",
   "name": "python",
   "nbconvert_exporter": "python",
   "pygments_lexer": "ipython3",
   "version": "3.9.17"
  },
  "toc": {
   "base_numbering": 1,
   "nav_menu": {},
   "number_sections": true,
   "sideBar": true,
   "skip_h1_title": false,
   "title_cell": "Table of Contents",
   "title_sidebar": "Contents",
   "toc_cell": false,
   "toc_position": {},
   "toc_section_display": true,
   "toc_window_display": false
  }
 },
 "nbformat": 4,
 "nbformat_minor": 4
}
